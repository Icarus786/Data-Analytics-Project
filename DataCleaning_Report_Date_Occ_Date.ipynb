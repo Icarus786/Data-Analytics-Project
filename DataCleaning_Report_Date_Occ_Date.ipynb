{
 "cells": [
  {
   "cell_type": "code",
   "execution_count": null,
   "id": "23a0024a-e106-4aaa-9f15-4c610caef771",
   "metadata": {},
   "outputs": [],
   "source": [
    "### THIS NOTEBOOK HAS THE PYTHON CODE FOR DATA-CLEANING OF THE MHA DATASET ###\n",
    "### Class BDAT-1011, Group4 -Predictive Policing Project"
   ]
  },
  {
   "cell_type": "code",
   "execution_count": null,
   "id": "adb391e0-d04b-4342-bda3-87035414ee4f",
   "metadata": {},
   "outputs": [],
   "source": [
    "# Initial Setup steps:"
   ]
  },
  {
   "cell_type": "code",
   "execution_count": 1,
   "id": "90a39a39-d54a-4ad5-a8bb-145dc52bf0de",
   "metadata": {
    "execution": {
     "iopub.execute_input": "2024-05-23T00:52:13.351508Z",
     "iopub.status.busy": "2024-05-23T00:52:13.351508Z",
     "iopub.status.idle": "2024-05-23T00:52:18.229450Z",
     "shell.execute_reply": "2024-05-23T00:52:18.229450Z",
     "shell.execute_reply.started": "2024-05-23T00:52:13.351508Z"
    }
   },
   "outputs": [
    {
     "name": "stdout",
     "output_type": "stream",
     "text": [
      "Requirement already satisfied: jupyterlab_execute_time in c:\\users\\knick\\anaconda3\\lib\\site-packages (3.1.2)\n",
      "Requirement already satisfied: jupyterlab<5,>=4 in c:\\users\\knick\\anaconda3\\lib\\site-packages (from jupyterlab_execute_time) (4.0.11)\n",
      "Requirement already satisfied: async-lru>=1.0.0 in c:\\users\\knick\\anaconda3\\lib\\site-packages (from jupyterlab<5,>=4->jupyterlab_execute_time) (2.0.4)\n",
      "Requirement already satisfied: ipykernel in c:\\users\\knick\\anaconda3\\lib\\site-packages (from jupyterlab<5,>=4->jupyterlab_execute_time) (6.28.0)\n",
      "Requirement already satisfied: jinja2>=3.0.3 in c:\\users\\knick\\anaconda3\\lib\\site-packages (from jupyterlab<5,>=4->jupyterlab_execute_time) (3.1.3)\n",
      "Requirement already satisfied: jupyter-core in c:\\users\\knick\\anaconda3\\lib\\site-packages (from jupyterlab<5,>=4->jupyterlab_execute_time) (5.5.0)\n",
      "Requirement already satisfied: jupyter-lsp>=2.0.0 in c:\\users\\knick\\anaconda3\\lib\\site-packages (from jupyterlab<5,>=4->jupyterlab_execute_time) (2.2.0)\n",
      "Requirement already satisfied: jupyter-server<3,>=2.4.0 in c:\\users\\knick\\anaconda3\\lib\\site-packages (from jupyterlab<5,>=4->jupyterlab_execute_time) (2.10.0)\n",
      "Requirement already satisfied: jupyterlab-server<3,>=2.19.0 in c:\\users\\knick\\anaconda3\\lib\\site-packages (from jupyterlab<5,>=4->jupyterlab_execute_time) (2.25.1)\n",
      "Requirement already satisfied: notebook-shim>=0.2 in c:\\users\\knick\\anaconda3\\lib\\site-packages (from jupyterlab<5,>=4->jupyterlab_execute_time) (0.2.3)\n",
      "Requirement already satisfied: packaging in c:\\users\\knick\\anaconda3\\lib\\site-packages (from jupyterlab<5,>=4->jupyterlab_execute_time) (23.2)\n",
      "Requirement already satisfied: tornado>=6.2.0 in c:\\users\\knick\\anaconda3\\lib\\site-packages (from jupyterlab<5,>=4->jupyterlab_execute_time) (6.3.3)\n",
      "Requirement already satisfied: traitlets in c:\\users\\knick\\anaconda3\\lib\\site-packages (from jupyterlab<5,>=4->jupyterlab_execute_time) (5.7.1)\n",
      "Requirement already satisfied: MarkupSafe>=2.0 in c:\\users\\knick\\anaconda3\\lib\\site-packages (from jinja2>=3.0.3->jupyterlab<5,>=4->jupyterlab_execute_time) (2.1.3)\n",
      "Requirement already satisfied: anyio>=3.1.0 in c:\\users\\knick\\anaconda3\\lib\\site-packages (from jupyter-server<3,>=2.4.0->jupyterlab<5,>=4->jupyterlab_execute_time) (4.2.0)\n",
      "Requirement already satisfied: argon2-cffi in c:\\users\\knick\\anaconda3\\lib\\site-packages (from jupyter-server<3,>=2.4.0->jupyterlab<5,>=4->jupyterlab_execute_time) (21.3.0)\n",
      "Requirement already satisfied: jupyter-client>=7.4.4 in c:\\users\\knick\\anaconda3\\lib\\site-packages (from jupyter-server<3,>=2.4.0->jupyterlab<5,>=4->jupyterlab_execute_time) (8.6.0)\n",
      "Requirement already satisfied: jupyter-events>=0.6.0 in c:\\users\\knick\\anaconda3\\lib\\site-packages (from jupyter-server<3,>=2.4.0->jupyterlab<5,>=4->jupyterlab_execute_time) (0.8.0)\n",
      "Requirement already satisfied: jupyter-server-terminals in c:\\users\\knick\\anaconda3\\lib\\site-packages (from jupyter-server<3,>=2.4.0->jupyterlab<5,>=4->jupyterlab_execute_time) (0.4.4)\n",
      "Requirement already satisfied: nbconvert>=6.4.4 in c:\\users\\knick\\anaconda3\\lib\\site-packages (from jupyter-server<3,>=2.4.0->jupyterlab<5,>=4->jupyterlab_execute_time) (7.10.0)\n",
      "Requirement already satisfied: nbformat>=5.3.0 in c:\\users\\knick\\anaconda3\\lib\\site-packages (from jupyter-server<3,>=2.4.0->jupyterlab<5,>=4->jupyterlab_execute_time) (5.9.2)\n",
      "Requirement already satisfied: overrides in c:\\users\\knick\\anaconda3\\lib\\site-packages (from jupyter-server<3,>=2.4.0->jupyterlab<5,>=4->jupyterlab_execute_time) (7.4.0)\n",
      "Requirement already satisfied: prometheus-client in c:\\users\\knick\\anaconda3\\lib\\site-packages (from jupyter-server<3,>=2.4.0->jupyterlab<5,>=4->jupyterlab_execute_time) (0.14.1)\n",
      "Requirement already satisfied: pywinpty in c:\\users\\knick\\anaconda3\\lib\\site-packages (from jupyter-server<3,>=2.4.0->jupyterlab<5,>=4->jupyterlab_execute_time) (2.0.10)\n",
      "Requirement already satisfied: pyzmq>=24 in c:\\users\\knick\\anaconda3\\lib\\site-packages (from jupyter-server<3,>=2.4.0->jupyterlab<5,>=4->jupyterlab_execute_time) (25.1.2)\n",
      "Requirement already satisfied: send2trash>=1.8.2 in c:\\users\\knick\\anaconda3\\lib\\site-packages (from jupyter-server<3,>=2.4.0->jupyterlab<5,>=4->jupyterlab_execute_time) (1.8.2)\n",
      "Requirement already satisfied: terminado>=0.8.3 in c:\\users\\knick\\anaconda3\\lib\\site-packages (from jupyter-server<3,>=2.4.0->jupyterlab<5,>=4->jupyterlab_execute_time) (0.17.1)\n",
      "Requirement already satisfied: websocket-client in c:\\users\\knick\\anaconda3\\lib\\site-packages (from jupyter-server<3,>=2.4.0->jupyterlab<5,>=4->jupyterlab_execute_time) (0.58.0)\n",
      "Requirement already satisfied: platformdirs>=2.5 in c:\\users\\knick\\anaconda3\\lib\\site-packages (from jupyter-core->jupyterlab<5,>=4->jupyterlab_execute_time) (3.10.0)\n",
      "Requirement already satisfied: pywin32>=300 in c:\\users\\knick\\anaconda3\\lib\\site-packages (from jupyter-core->jupyterlab<5,>=4->jupyterlab_execute_time) (305.1)\n",
      "Requirement already satisfied: babel>=2.10 in c:\\users\\knick\\anaconda3\\lib\\site-packages (from jupyterlab-server<3,>=2.19.0->jupyterlab<5,>=4->jupyterlab_execute_time) (2.11.0)\n",
      "Requirement already satisfied: json5>=0.9.0 in c:\\users\\knick\\anaconda3\\lib\\site-packages (from jupyterlab-server<3,>=2.19.0->jupyterlab<5,>=4->jupyterlab_execute_time) (0.9.6)\n",
      "Requirement already satisfied: jsonschema>=4.18.0 in c:\\users\\knick\\anaconda3\\lib\\site-packages (from jupyterlab-server<3,>=2.19.0->jupyterlab<5,>=4->jupyterlab_execute_time) (4.19.2)\n",
      "Requirement already satisfied: requests>=2.31 in c:\\users\\knick\\anaconda3\\lib\\site-packages (from jupyterlab-server<3,>=2.19.0->jupyterlab<5,>=4->jupyterlab_execute_time) (2.31.0)\n",
      "Requirement already satisfied: comm>=0.1.1 in c:\\users\\knick\\anaconda3\\lib\\site-packages (from ipykernel->jupyterlab<5,>=4->jupyterlab_execute_time) (0.2.1)\n",
      "Requirement already satisfied: debugpy>=1.6.5 in c:\\users\\knick\\anaconda3\\lib\\site-packages (from ipykernel->jupyterlab<5,>=4->jupyterlab_execute_time) (1.6.7)\n",
      "Requirement already satisfied: ipython>=7.23.1 in c:\\users\\knick\\anaconda3\\lib\\site-packages (from ipykernel->jupyterlab<5,>=4->jupyterlab_execute_time) (8.20.0)\n",
      "Requirement already satisfied: matplotlib-inline>=0.1 in c:\\users\\knick\\anaconda3\\lib\\site-packages (from ipykernel->jupyterlab<5,>=4->jupyterlab_execute_time) (0.1.6)\n",
      "Requirement already satisfied: nest-asyncio in c:\\users\\knick\\anaconda3\\lib\\site-packages (from ipykernel->jupyterlab<5,>=4->jupyterlab_execute_time) (1.6.0)\n",
      "Requirement already satisfied: psutil in c:\\users\\knick\\anaconda3\\lib\\site-packages (from ipykernel->jupyterlab<5,>=4->jupyterlab_execute_time) (5.9.0)\n",
      "Requirement already satisfied: idna>=2.8 in c:\\users\\knick\\anaconda3\\lib\\site-packages (from anyio>=3.1.0->jupyter-server<3,>=2.4.0->jupyterlab<5,>=4->jupyterlab_execute_time) (3.7)\n",
      "Requirement already satisfied: sniffio>=1.1 in c:\\users\\knick\\anaconda3\\lib\\site-packages (from anyio>=3.1.0->jupyter-server<3,>=2.4.0->jupyterlab<5,>=4->jupyterlab_execute_time) (1.3.0)\n",
      "Requirement already satisfied: pytz>=2015.7 in c:\\users\\knick\\anaconda3\\lib\\site-packages (from babel>=2.10->jupyterlab-server<3,>=2.19.0->jupyterlab<5,>=4->jupyterlab_execute_time) (2024.1)\n",
      "Requirement already satisfied: decorator in c:\\users\\knick\\anaconda3\\lib\\site-packages (from ipython>=7.23.1->ipykernel->jupyterlab<5,>=4->jupyterlab_execute_time) (5.1.1)\n",
      "Requirement already satisfied: jedi>=0.16 in c:\\users\\knick\\anaconda3\\lib\\site-packages (from ipython>=7.23.1->ipykernel->jupyterlab<5,>=4->jupyterlab_execute_time) (0.18.1)\n",
      "Requirement already satisfied: prompt-toolkit<3.1.0,>=3.0.41 in c:\\users\\knick\\anaconda3\\lib\\site-packages (from ipython>=7.23.1->ipykernel->jupyterlab<5,>=4->jupyterlab_execute_time) (3.0.43)\n",
      "Requirement already satisfied: pygments>=2.4.0 in c:\\users\\knick\\anaconda3\\lib\\site-packages (from ipython>=7.23.1->ipykernel->jupyterlab<5,>=4->jupyterlab_execute_time) (2.15.1)\n",
      "Requirement already satisfied: stack-data in c:\\users\\knick\\anaconda3\\lib\\site-packages (from ipython>=7.23.1->ipykernel->jupyterlab<5,>=4->jupyterlab_execute_time) (0.2.0)\n",
      "Requirement already satisfied: colorama in c:\\users\\knick\\anaconda3\\lib\\site-packages (from ipython>=7.23.1->ipykernel->jupyterlab<5,>=4->jupyterlab_execute_time) (0.4.6)\n",
      "Requirement already satisfied: attrs>=22.2.0 in c:\\users\\knick\\anaconda3\\lib\\site-packages (from jsonschema>=4.18.0->jupyterlab-server<3,>=2.19.0->jupyterlab<5,>=4->jupyterlab_execute_time) (23.1.0)\n",
      "Requirement already satisfied: jsonschema-specifications>=2023.03.6 in c:\\users\\knick\\anaconda3\\lib\\site-packages (from jsonschema>=4.18.0->jupyterlab-server<3,>=2.19.0->jupyterlab<5,>=4->jupyterlab_execute_time) (2023.7.1)\n",
      "Requirement already satisfied: referencing>=0.28.4 in c:\\users\\knick\\anaconda3\\lib\\site-packages (from jsonschema>=4.18.0->jupyterlab-server<3,>=2.19.0->jupyterlab<5,>=4->jupyterlab_execute_time) (0.30.2)\n",
      "Requirement already satisfied: rpds-py>=0.7.1 in c:\\users\\knick\\anaconda3\\lib\\site-packages (from jsonschema>=4.18.0->jupyterlab-server<3,>=2.19.0->jupyterlab<5,>=4->jupyterlab_execute_time) (0.10.6)\n",
      "Requirement already satisfied: python-dateutil>=2.8.2 in c:\\users\\knick\\anaconda3\\lib\\site-packages (from jupyter-client>=7.4.4->jupyter-server<3,>=2.4.0->jupyterlab<5,>=4->jupyterlab_execute_time) (2.8.2)\n",
      "Requirement already satisfied: python-json-logger>=2.0.4 in c:\\users\\knick\\anaconda3\\lib\\site-packages (from jupyter-events>=0.6.0->jupyter-server<3,>=2.4.0->jupyterlab<5,>=4->jupyterlab_execute_time) (2.0.7)\n",
      "Requirement already satisfied: pyyaml>=5.3 in c:\\users\\knick\\anaconda3\\lib\\site-packages (from jupyter-events>=0.6.0->jupyter-server<3,>=2.4.0->jupyterlab<5,>=4->jupyterlab_execute_time) (6.0.1)\n",
      "Requirement already satisfied: rfc3339-validator in c:\\users\\knick\\anaconda3\\lib\\site-packages (from jupyter-events>=0.6.0->jupyter-server<3,>=2.4.0->jupyterlab<5,>=4->jupyterlab_execute_time) (0.1.4)\n",
      "Requirement already satisfied: rfc3986-validator>=0.1.1 in c:\\users\\knick\\anaconda3\\lib\\site-packages (from jupyter-events>=0.6.0->jupyter-server<3,>=2.4.0->jupyterlab<5,>=4->jupyterlab_execute_time) (0.1.1)\n",
      "Requirement already satisfied: beautifulsoup4 in c:\\users\\knick\\anaconda3\\lib\\site-packages (from nbconvert>=6.4.4->jupyter-server<3,>=2.4.0->jupyterlab<5,>=4->jupyterlab_execute_time) (4.12.2)\n",
      "Requirement already satisfied: bleach!=5.0.0 in c:\\users\\knick\\anaconda3\\lib\\site-packages (from nbconvert>=6.4.4->jupyter-server<3,>=2.4.0->jupyterlab<5,>=4->jupyterlab_execute_time) (4.1.0)\n",
      "Requirement already satisfied: defusedxml in c:\\users\\knick\\anaconda3\\lib\\site-packages (from nbconvert>=6.4.4->jupyter-server<3,>=2.4.0->jupyterlab<5,>=4->jupyterlab_execute_time) (0.7.1)\n",
      "Requirement already satisfied: jupyterlab-pygments in c:\\users\\knick\\anaconda3\\lib\\site-packages (from nbconvert>=6.4.4->jupyter-server<3,>=2.4.0->jupyterlab<5,>=4->jupyterlab_execute_time) (0.1.2)\n",
      "Requirement already satisfied: mistune<4,>=2.0.3 in c:\\users\\knick\\anaconda3\\lib\\site-packages (from nbconvert>=6.4.4->jupyter-server<3,>=2.4.0->jupyterlab<5,>=4->jupyterlab_execute_time) (2.0.4)\n",
      "Requirement already satisfied: nbclient>=0.5.0 in c:\\users\\knick\\anaconda3\\lib\\site-packages (from nbconvert>=6.4.4->jupyter-server<3,>=2.4.0->jupyterlab<5,>=4->jupyterlab_execute_time) (0.8.0)\n",
      "Requirement already satisfied: pandocfilters>=1.4.1 in c:\\users\\knick\\anaconda3\\lib\\site-packages (from nbconvert>=6.4.4->jupyter-server<3,>=2.4.0->jupyterlab<5,>=4->jupyterlab_execute_time) (1.5.0)\n",
      "Requirement already satisfied: tinycss2 in c:\\users\\knick\\anaconda3\\lib\\site-packages (from nbconvert>=6.4.4->jupyter-server<3,>=2.4.0->jupyterlab<5,>=4->jupyterlab_execute_time) (1.2.1)\n",
      "Requirement already satisfied: fastjsonschema in c:\\users\\knick\\anaconda3\\lib\\site-packages (from nbformat>=5.3.0->jupyter-server<3,>=2.4.0->jupyterlab<5,>=4->jupyterlab_execute_time) (2.16.2)\n",
      "Requirement already satisfied: charset-normalizer<4,>=2 in c:\\users\\knick\\anaconda3\\lib\\site-packages (from requests>=2.31->jupyterlab-server<3,>=2.19.0->jupyterlab<5,>=4->jupyterlab_execute_time) (2.0.4)\n",
      "Requirement already satisfied: urllib3<3,>=1.21.1 in c:\\users\\knick\\anaconda3\\lib\\site-packages (from requests>=2.31->jupyterlab-server<3,>=2.19.0->jupyterlab<5,>=4->jupyterlab_execute_time) (2.1.0)\n",
      "Requirement already satisfied: certifi>=2017.4.17 in c:\\users\\knick\\anaconda3\\lib\\site-packages (from requests>=2.31->jupyterlab-server<3,>=2.19.0->jupyterlab<5,>=4->jupyterlab_execute_time) (2024.2.2)\n",
      "Requirement already satisfied: argon2-cffi-bindings in c:\\users\\knick\\anaconda3\\lib\\site-packages (from argon2-cffi->jupyter-server<3,>=2.4.0->jupyterlab<5,>=4->jupyterlab_execute_time) (21.2.0)\n",
      "Requirement already satisfied: six in c:\\users\\knick\\anaconda3\\lib\\site-packages (from websocket-client->jupyter-server<3,>=2.4.0->jupyterlab<5,>=4->jupyterlab_execute_time) (1.16.0)\n",
      "Requirement already satisfied: webencodings in c:\\users\\knick\\anaconda3\\lib\\site-packages (from bleach!=5.0.0->nbconvert>=6.4.4->jupyter-server<3,>=2.4.0->jupyterlab<5,>=4->jupyterlab_execute_time) (0.5.1)\n",
      "Requirement already satisfied: parso<0.9.0,>=0.8.0 in c:\\users\\knick\\anaconda3\\lib\\site-packages (from jedi>=0.16->ipython>=7.23.1->ipykernel->jupyterlab<5,>=4->jupyterlab_execute_time) (0.8.3)\n",
      "Requirement already satisfied: fqdn in c:\\users\\knick\\anaconda3\\lib\\site-packages (from jsonschema[format-nongpl]>=4.18.0->jupyter-events>=0.6.0->jupyter-server<3,>=2.4.0->jupyterlab<5,>=4->jupyterlab_execute_time) (1.5.1)\n",
      "Requirement already satisfied: isoduration in c:\\users\\knick\\anaconda3\\lib\\site-packages (from jsonschema[format-nongpl]>=4.18.0->jupyter-events>=0.6.0->jupyter-server<3,>=2.4.0->jupyterlab<5,>=4->jupyterlab_execute_time) (20.11.0)\n",
      "Requirement already satisfied: jsonpointer>1.13 in c:\\users\\knick\\anaconda3\\lib\\site-packages (from jsonschema[format-nongpl]>=4.18.0->jupyter-events>=0.6.0->jupyter-server<3,>=2.4.0->jupyterlab<5,>=4->jupyterlab_execute_time) (2.1)\n",
      "Requirement already satisfied: uri-template in c:\\users\\knick\\anaconda3\\lib\\site-packages (from jsonschema[format-nongpl]>=4.18.0->jupyter-events>=0.6.0->jupyter-server<3,>=2.4.0->jupyterlab<5,>=4->jupyterlab_execute_time) (1.3.0)\n",
      "Requirement already satisfied: webcolors>=1.11 in c:\\users\\knick\\anaconda3\\lib\\site-packages (from jsonschema[format-nongpl]>=4.18.0->jupyter-events>=0.6.0->jupyter-server<3,>=2.4.0->jupyterlab<5,>=4->jupyterlab_execute_time) (1.13)\n",
      "Requirement already satisfied: wcwidth in c:\\users\\knick\\anaconda3\\lib\\site-packages (from prompt-toolkit<3.1.0,>=3.0.41->ipython>=7.23.1->ipykernel->jupyterlab<5,>=4->jupyterlab_execute_time) (0.2.5)\n",
      "Requirement already satisfied: cffi>=1.0.1 in c:\\users\\knick\\anaconda3\\lib\\site-packages (from argon2-cffi-bindings->argon2-cffi->jupyter-server<3,>=2.4.0->jupyterlab<5,>=4->jupyterlab_execute_time) (1.16.0)\n",
      "Requirement already satisfied: soupsieve>1.2 in c:\\users\\knick\\anaconda3\\lib\\site-packages (from beautifulsoup4->nbconvert>=6.4.4->jupyter-server<3,>=2.4.0->jupyterlab<5,>=4->jupyterlab_execute_time) (2.5)\n",
      "Requirement already satisfied: executing in c:\\users\\knick\\anaconda3\\lib\\site-packages (from stack-data->ipython>=7.23.1->ipykernel->jupyterlab<5,>=4->jupyterlab_execute_time) (0.8.3)\n",
      "Requirement already satisfied: asttokens in c:\\users\\knick\\anaconda3\\lib\\site-packages (from stack-data->ipython>=7.23.1->ipykernel->jupyterlab<5,>=4->jupyterlab_execute_time) (2.0.5)\n",
      "Requirement already satisfied: pure-eval in c:\\users\\knick\\anaconda3\\lib\\site-packages (from stack-data->ipython>=7.23.1->ipykernel->jupyterlab<5,>=4->jupyterlab_execute_time) (0.2.2)\n",
      "Requirement already satisfied: pycparser in c:\\users\\knick\\anaconda3\\lib\\site-packages (from cffi>=1.0.1->argon2-cffi-bindings->argon2-cffi->jupyter-server<3,>=2.4.0->jupyterlab<5,>=4->jupyterlab_execute_time) (2.21)\n",
      "Requirement already satisfied: arrow>=0.15.0 in c:\\users\\knick\\anaconda3\\lib\\site-packages (from isoduration->jsonschema[format-nongpl]>=4.18.0->jupyter-events>=0.6.0->jupyter-server<3,>=2.4.0->jupyterlab<5,>=4->jupyterlab_execute_time) (1.2.3)\n",
      "Note: you may need to restart the kernel to use updated packages.\n"
     ]
    }
   ],
   "source": [
    "pip install jupyterlab_execute_time"
   ]
  },
  {
   "cell_type": "code",
   "execution_count": 2,
   "id": "60a9e724-a689-4d25-bcd1-b16c30c5d230",
   "metadata": {
    "execution": {
     "iopub.execute_input": "2024-05-23T00:52:38.074941Z",
     "iopub.status.busy": "2024-05-23T00:52:38.073945Z",
     "iopub.status.idle": "2024-05-23T00:52:38.078187Z",
     "shell.execute_reply": "2024-05-23T00:52:38.078187Z",
     "shell.execute_reply.started": "2024-05-23T00:52:38.074941Z"
    }
   },
   "outputs": [],
   "source": [
    "%timeit\n",
    "import os\n",
    "\n",
    "# Set JAVA_HOME to Java 11\n",
    "os.environ[\"JAVA_HOME\"] = \"C:\\\\Program Files\\\\Java\\\\jdk-11\"\n",
    "os.environ[\"PATH\"] = os.environ[\"JAVA_HOME\"] + \"\\\\bin;\" + os.environ[\"PATH\"]\n"
   ]
  },
  {
   "cell_type": "code",
   "execution_count": 5,
   "id": "9f36cd87-8250-4609-8e46-84fb94471d11",
   "metadata": {
    "execution": {
     "iopub.execute_input": "2024-05-23T00:56:04.281945Z",
     "iopub.status.busy": "2024-05-23T00:56:04.281945Z",
     "iopub.status.idle": "2024-05-23T00:56:04.782526Z",
     "shell.execute_reply": "2024-05-23T00:56:04.782526Z",
     "shell.execute_reply.started": "2024-05-23T00:56:04.281945Z"
    }
   },
   "outputs": [],
   "source": [
    "from pyspark import SparkContext\n",
    "\n",
    "sc = SparkContext.getOrCreate()\n",
    "    "
   ]
  },
  {
   "cell_type": "code",
   "execution_count": 6,
   "id": "325113b9-3d3e-4baf-a95c-bdfc9d1adf4e",
   "metadata": {
    "execution": {
     "iopub.execute_input": "2024-05-23T00:56:18.971704Z",
     "iopub.status.busy": "2024-05-23T00:56:18.970707Z",
     "iopub.status.idle": "2024-05-23T00:56:19.069795Z",
     "shell.execute_reply": "2024-05-23T00:56:19.069795Z",
     "shell.execute_reply.started": "2024-05-23T00:56:18.970707Z"
    }
   },
   "outputs": [],
   "source": [
    "#Import import variables and libraries:\n",
    "import pyspark\n",
    "from pyspark import SparkContext\n",
    "from pyspark.sql import SQLContext\n",
    "\n",
    "from pyspark.sql import SparkSession\n",
    "spark = SparkSession.builder.appName('MHAData').getOrCreate()\n",
    "import os"
   ]
  },
  {
   "cell_type": "code",
   "execution_count": 7,
   "id": "4a6ef275-3b90-41ef-b796-0f61e2dcccfa",
   "metadata": {
    "execution": {
     "iopub.execute_input": "2024-05-23T00:56:30.525328Z",
     "iopub.status.busy": "2024-05-23T00:56:30.525328Z",
     "iopub.status.idle": "2024-05-23T00:56:33.853115Z",
     "shell.execute_reply": "2024-05-23T00:56:33.853115Z",
     "shell.execute_reply.started": "2024-05-23T00:56:30.525328Z"
    }
   },
   "outputs": [
    {
     "name": "stdout",
     "output_type": "stream",
     "text": [
      "root\n",
      " |-- _id: integer (nullable = true)\n",
      " |-- EVENT_UNIQUE_ID: string (nullable = true)\n",
      " |-- REPORT_DATE: date (nullable = true)\n",
      " |-- REPORT_YEAR: integer (nullable = true)\n",
      " |-- REPORT_MONTH: string (nullable = true)\n",
      " |-- REPORT_DOW: string (nullable = true)\n",
      " |-- REPORT_DOY: integer (nullable = true)\n",
      " |-- REPORT_DAY: integer (nullable = true)\n",
      " |-- REPORT_HOUR: integer (nullable = true)\n",
      " |-- OCC_DATE: date (nullable = true)\n",
      " |-- OCC_YEAR: integer (nullable = true)\n",
      " |-- OCC_MONTH: string (nullable = true)\n",
      " |-- OCC_DOY: integer (nullable = true)\n",
      " |-- OCC_DAY: integer (nullable = true)\n",
      " |-- OCC_DOW: string (nullable = true)\n",
      " |-- OCC_HOUR: integer (nullable = true)\n",
      " |-- DIVISION: string (nullable = true)\n",
      " |-- PREMISES_TYPE: string (nullable = true)\n",
      " |-- APPREHENSION_TYPE: string (nullable = true)\n",
      " |-- SEX: string (nullable = true)\n",
      " |-- AGE_COHORT: string (nullable = true)\n",
      " |-- HOOD_158: string (nullable = true)\n",
      " |-- NEIGHBOURHOOD_158: string (nullable = true)\n",
      " |-- HOOD_140: string (nullable = true)\n",
      " |-- NEIGHBOURHOOD_140: string (nullable = true)\n",
      "\n"
     ]
    }
   ],
   "source": [
    "#read in files path to dataset and define schema\n",
    "\n",
    "file_path = \"C:/Users/knick/Desktop/BDAT/1011-MRP/MRP-1003/Data Cleaning/mental-health-apprehensions-refreshed May5_2024.csv\"\n",
    "\n",
    "df_inferred = spark.read.csv(file_path, header=True, inferSchema=True)\n",
    "df_inferred.printSchema() \n"
   ]
  },
  {
   "cell_type": "code",
   "execution_count": null,
   "id": "78d1accb-3bca-48a3-a012-1facfbeb91db",
   "metadata": {},
   "outputs": [],
   "source": [
    "# (A) Missing Values :"
   ]
  },
  {
   "cell_type": "code",
   "execution_count": 8,
   "id": "9ad83469-b1c2-4ed6-b07d-9050b3cd8739",
   "metadata": {
    "execution": {
     "iopub.execute_input": "2024-05-23T00:56:47.595452Z",
     "iopub.status.busy": "2024-05-23T00:56:47.594455Z",
     "iopub.status.idle": "2024-05-23T00:56:48.210372Z",
     "shell.execute_reply": "2024-05-23T00:56:48.210372Z",
     "shell.execute_reply.started": "2024-05-23T00:56:47.595452Z"
    },
    "scrolled": true
   },
   "outputs": [
    {
     "name": "stdout",
     "output_type": "stream",
     "text": [
      "   _id EVENT_UNIQUE_ID REPORT_DATE  REPORT_YEAR REPORT_MONTH REPORT_DOW  \\\n",
      "0    1  GO-20141263946         NaN         2014      January  Wednesday   \n",
      "1    2  GO-20141261121         NaN         2014      January  Wednesday   \n",
      "2    3  GO-20141261310         NaN         2014      January  Wednesday   \n",
      "3    4  GO-20141263993         NaN         2014      January  Wednesday   \n",
      "4    5  GO-20141262098         NaN         2014      January  Wednesday   \n",
      "\n",
      "   REPORT_DOY  REPORT_DAY  REPORT_HOUR OCC_DATE  ...  OCC_HOUR DIVISION  \\\n",
      "0           1           1           19      NaN  ...        19      D42   \n",
      "1           1           1            5      NaN  ...         5      D14   \n",
      "2           1           1            8      NaN  ...         6      NSA   \n",
      "3           1           1           19      NaN  ...        19      D12   \n",
      "4           1           1           11      NaN  ...        11      D11   \n",
      "\n",
      "   PREMISES_TYPE          APPREHENSION_TYPE     SEX  AGE_COHORT HOOD_158  \\\n",
      "0          House  Mha Sec 17 (Power Of App)    Male    55 to 64      144   \n",
      "1      Apartment  Mha Sec 17 (Power Of App)  Female    25 to 34       78   \n",
      "2        Outside  Mha Sec 17 (Power Of App)  Female    55 to 64      NSA   \n",
      "3      Apartment  Mha Sec 17 (Power Of App)    Male    18 to 24      115   \n",
      "4          House  Mha Sec 17 (Power Of App)    Male    25 to 34       91   \n",
      "\n",
      "      NEIGHBOURHOOD_158 HOOD_140          NEIGHBOURHOOD_140  \n",
      "0   Morningside Heights      131                Rouge (131)  \n",
      "1  Kensington-Chinatown       78  Kensington-Chinatown (78)  \n",
      "2                   NSA      NSA                        NSA  \n",
      "3          Mount Dennis      115         Mount Dennis (115)  \n",
      "4    Weston-Pelham Park       91    Weston-Pellam Park (91)  \n",
      "\n",
      "[5 rows x 25 columns]\n"
     ]
    }
   ],
   "source": [
    "#Check for missing values in dataset:\n",
    "\n",
    "import pandas as pd\n",
    "\n",
    "#Load our dataset into a pandas dataframe:\n",
    "mha_data = pd.read_csv('C:/Users/knick/Desktop/BDAT/1011-MRP/MRP-1003/Data Cleaning/mental-health-apprehensions-refreshed May5_2024.csv')\n",
    "\n",
    "# Peak at the first few rows of our df:\n",
    "print(mha_data.head())"
   ]
  },
  {
   "cell_type": "code",
   "execution_count": 8,
   "id": "c018c564-cfd2-4e76-b284-f93695349d6f",
   "metadata": {
    "execution": {
     "iopub.execute_input": "2024-05-22T20:22:23.684130Z",
     "iopub.status.busy": "2024-05-22T20:22:23.684130Z",
     "iopub.status.idle": "2024-05-22T20:22:23.723020Z",
     "shell.execute_reply": "2024-05-22T20:22:23.723020Z",
     "shell.execute_reply.started": "2024-05-22T20:22:23.684130Z"
    }
   },
   "outputs": [
    {
     "name": "stdout",
     "output_type": "stream",
     "text": [
      "Total Missing Values: \n",
      "\n",
      "_id                      0\n",
      "EVENT_UNIQUE_ID          0\n",
      "REPORT_DATE          91012\n",
      "REPORT_YEAR              0\n",
      "REPORT_MONTH             0\n",
      "REPORT_DOW               0\n",
      "REPORT_DOY               0\n",
      "REPORT_DAY               0\n",
      "REPORT_HOUR              0\n",
      "OCC_DATE             91002\n",
      "OCC_YEAR                 0\n",
      "OCC_MONTH                0\n",
      "OCC_DOY                  0\n",
      "OCC_DAY                  0\n",
      "OCC_DOW                  0\n",
      "OCC_HOUR                 0\n",
      "DIVISION                 0\n",
      "PREMISES_TYPE            0\n",
      "APPREHENSION_TYPE        0\n",
      "SEX                      0\n",
      "AGE_COHORT               0\n",
      "HOOD_158                 0\n",
      "NEIGHBOURHOOD_158        0\n",
      "HOOD_140                 0\n",
      "NEIGHBOURHOOD_140        0\n",
      "dtype: int64\n",
      "\n",
      "Total Missing Values: \n",
      "\n",
      "_id                   0.000000\n",
      "EVENT_UNIQUE_ID       0.000000\n",
      "REPORT_DATE          83.567015\n",
      "REPORT_YEAR           0.000000\n",
      "REPORT_MONTH          0.000000\n",
      "REPORT_DOW            0.000000\n",
      "REPORT_DOY            0.000000\n",
      "REPORT_DAY            0.000000\n",
      "REPORT_HOUR           0.000000\n",
      "OCC_DATE             83.557833\n",
      "OCC_YEAR              0.000000\n",
      "OCC_MONTH             0.000000\n",
      "OCC_DOY               0.000000\n",
      "OCC_DAY               0.000000\n",
      "OCC_DOW               0.000000\n",
      "OCC_HOUR              0.000000\n",
      "DIVISION              0.000000\n",
      "PREMISES_TYPE         0.000000\n",
      "APPREHENSION_TYPE     0.000000\n",
      "SEX                   0.000000\n",
      "AGE_COHORT            0.000000\n",
      "HOOD_158              0.000000\n",
      "NEIGHBOURHOOD_158     0.000000\n",
      "HOOD_140              0.000000\n",
      "NEIGHBOURHOOD_140     0.000000\n",
      "dtype: float64\n"
     ]
    }
   ],
   "source": [
    "#Next, calculate how many missing fields we have in the df:\n",
    "\n",
    "# Calculate the total number of rows in the dataset\n",
    "total_rows = len(mha_data)\n",
    "\n",
    "#Calculate the Total missing values of each field:\n",
    "missing_values = mha_data.isnull().sum()\n",
    "print('Total Missing Values: \\n')\n",
    "print(missing_values)\n",
    "print()\n",
    "\n",
    "# Calculate the percentage of missing values for each column\n",
    "missing_by_percentage = (missing_values / total_rows) * 100\n",
    "print('Total Missing Values: \\n')\n",
    "print(missing_by_percentage)\n",
    "\n",
    "\n"
   ]
  },
  {
   "cell_type": "code",
   "execution_count": 18,
   "id": "00cab9bb-209a-463a-bdc5-a6ad70b5ad57",
   "metadata": {
    "execution": {
     "iopub.execute_input": "2024-05-23T01:26:41.678059Z",
     "iopub.status.busy": "2024-05-23T01:26:41.678059Z",
     "iopub.status.idle": "2024-05-23T01:26:41.682830Z",
     "shell.execute_reply": "2024-05-23T01:26:41.682830Z",
     "shell.execute_reply.started": "2024-05-23T01:26:41.678059Z"
    }
   },
   "outputs": [],
   "source": [
    "# Do the actual cleaning here - address missing and invalid data in Report_Date:\n",
    "\n",
    "import pandas as pd\n",
    "import numpy as np\n",
    "\n",
    "# copy our original dataset:\n",
    "rawData = mha_data\n",
    "\n",
    "# Define a function that will validate Report_Date and/or combine report_year, report_month, report_day into a date :\n",
    "def Build_Report_Date(row):\n",
    "    # check if the current value of Report_Date is valid and within our date range of 2014-2024 :\n",
    "    try:\n",
    "        if pd.isna(row['REPORT_DATE']):\n",
    "            try:\n",
    "                # Construct date from year, month, day\n",
    "                return pd.Timestamp(year=row['REPORT_YEAR'], \n",
    "                                month=pd.to_datetime(row['REPORT_MONTH'], format='%B').month, \n",
    "                                day=row['REPORT_DAY'])\n",
    "            except ValueError:\n",
    "                # Return NaN if there's an error in date creation (e.g., invalid date)\n",
    "                return np.nan\n",
    "        \n",
    "        # If Report_Date is valid and within a reasonable timeframe, return it\n",
    "        current_date = pd.to_datetime(row['REPORT_DATE'])\n",
    "        if current_date.year >= 2014 and current_date.year <= 2024:\n",
    "            return current_date\n",
    "\n",
    "    except (ValueError, TypeError):\n",
    "        # If there's an error in trying to build the date, return NaN\n",
    "        return np.nan\n"
   ]
  },
  {
   "cell_type": "code",
   "execution_count": 19,
   "id": "60686153-8622-457e-8444-2bbf6cd49b9b",
   "metadata": {
    "execution": {
     "iopub.execute_input": "2024-05-23T01:26:56.316944Z",
     "iopub.status.busy": "2024-05-23T01:26:56.316944Z",
     "iopub.status.idle": "2024-05-23T01:27:04.120849Z",
     "shell.execute_reply": "2024-05-23T01:27:04.120849Z",
     "shell.execute_reply.started": "2024-05-23T01:26:56.316944Z"
    }
   },
   "outputs": [
    {
     "name": "stdout",
     "output_type": "stream",
     "text": [
      "Empty DataFrame\n",
      "Columns: [_id, EVENT_UNIQUE_ID, REPORT_DATE, REPORT_YEAR, REPORT_MONTH, REPORT_DOW, REPORT_DOY, REPORT_DAY, REPORT_HOUR, OCC_DATE, OCC_YEAR, OCC_MONTH, OCC_DOY, OCC_DAY, OCC_DOW, OCC_HOUR, DIVISION, PREMISES_TYPE, APPREHENSION_TYPE, SEX, AGE_COHORT, HOOD_158, NEIGHBOURHOOD_158, HOOD_140, NEIGHBOURHOOD_140]\n",
      "Index: []\n",
      "\n",
      "[0 rows x 25 columns]\n"
     ]
    }
   ],
   "source": [
    "# Now apply the function results to each row of dataset     \n",
    "rawData['REPORT_DATE'] = rawData.apply(Build_Report_Date, axis=1)\n",
    "\n",
    "# Check what rows are still NaN (missing or invalid) :\n",
    "print(rawData[rawData['REPORT_DATE'].isna()])\n",
    "\n",
    "# We will save our cleaned data to a new CSV\n",
    "cleaned_dataset = \"C:/Users/knick/Desktop/BDAT/1011-MRP/MRP-1003/Data Cleaning/cleaned_Report_Date.csv\"\n",
    "rawData.to_csv(cleaned_dataset, index=False)"
   ]
  },
  {
   "cell_type": "code",
   "execution_count": 20,
   "id": "5b23880e-ed2b-406c-aa01-0f1529b7b029",
   "metadata": {
    "execution": {
     "iopub.execute_input": "2024-05-23T01:27:43.071211Z",
     "iopub.status.busy": "2024-05-23T01:27:43.070215Z",
     "iopub.status.idle": "2024-05-23T01:27:43.079413Z",
     "shell.execute_reply": "2024-05-23T01:27:43.079413Z",
     "shell.execute_reply.started": "2024-05-23T01:27:43.071211Z"
    }
   },
   "outputs": [
    {
     "name": "stdout",
     "output_type": "stream",
     "text": [
      "REPORT_YEAR     0\n",
      "REPORT_MONTH    0\n",
      "REPORT_DAY      0\n",
      "dtype: int64\n",
      "REPORT_DATE    0\n",
      "dtype: int64\n"
     ]
    }
   ],
   "source": [
    "#Below we verify if there are any remaining NULL values in Report_Date :\n",
    "\n",
    "print(rawData[['REPORT_YEAR', 'REPORT_MONTH', 'REPORT_DAY']].isna().sum())\n",
    "print(rawData[['REPORT_DATE']].isna().sum())"
   ]
  },
  {
   "cell_type": "code",
   "execution_count": 21,
   "id": "ab768776-2eed-47c1-8758-7944e6af23fd",
   "metadata": {
    "execution": {
     "iopub.execute_input": "2024-05-23T01:38:55.948068Z",
     "iopub.status.busy": "2024-05-23T01:38:55.948068Z",
     "iopub.status.idle": "2024-05-23T01:39:03.947230Z",
     "shell.execute_reply": "2024-05-23T01:39:03.946825Z",
     "shell.execute_reply.started": "2024-05-23T01:38:55.948068Z"
    }
   },
   "outputs": [
    {
     "name": "stdout",
     "output_type": "stream",
     "text": [
      "         _id EVENT_UNIQUE_ID REPORT_DATE  REPORT_YEAR REPORT_MONTH REPORT_DOW  \\\n",
      "234      235  GO-20141335282  2014-01-13         2014      January     Monday   \n",
      "314      315  GO-20141351010  2014-01-16         2014      January   Thursday   \n",
      "908      909  GO-20141531563  2014-02-14         2014     February     Friday   \n",
      "10900  10901   GO-2015962360  2015-06-09         2015         June    Tuesday   \n",
      "\n",
      "       REPORT_DOY  REPORT_DAY  REPORT_HOUR OCC_DATE  ...  OCC_HOUR DIVISION  \\\n",
      "234            13          13           13      NaT  ...        12      D14   \n",
      "314            16          16            2      NaT  ...        22      D55   \n",
      "908            45          14           21      NaT  ...        21      D43   \n",
      "10900         160           9            1      NaT  ...        21      D12   \n",
      "\n",
      "       PREMISES_TYPE          APPREHENSION_TYPE     SEX  AGE_COHORT HOOD_158  \\\n",
      "234        Apartment  Mha Sec 17 (Power Of App)    Male         65+       84   \n",
      "314        Apartment  Mha Sec 17 (Power Of App)    Male    18 to 24       63   \n",
      "908       Commercial  Mha Sec 17 (Power Of App)    Male    35 to 44      138   \n",
      "10900      Apartment        Mha Sec 15 (Form 1)  Female    35 to 44      115   \n",
      "\n",
      "      NEIGHBOURHOOD_158 HOOD_140     NEIGHBOURHOOD_140  \n",
      "234     Little Portugal       84  Little Portugal (84)  \n",
      "314         The Beaches       63      The Beaches (63)  \n",
      "908       Eglinton East      138   Eglinton East (138)  \n",
      "10900      Mount Dennis      115    Mount Dennis (115)  \n",
      "\n",
      "[4 rows x 25 columns]\n"
     ]
    }
   ],
   "source": [
    "# NOW WE WILL DO THE SAME FOR OCC_DATE -> For missing values, we will build a date using \n",
    "#OCC_YEAR, OCCMONTH and OCC_DAY\n",
    "\n",
    "# copy our original dataset:\n",
    "rawData2 = mha_data\n",
    "\n",
    "# Function to validate and possibly correct the OCC_DATE\n",
    "def Build_Occ_Date(row):\n",
    "\n",
    "    # check if the current value of Report_Date is valid and within our date range of 2014-2024 :\n",
    "    try:\n",
    "        if pd.isna(row['OCC_DATE']):\n",
    "            try:\n",
    "                # Construct date from year, month, day\n",
    "                return pd.Timestamp(year=row['OCC_YEAR'], \n",
    "                                month=pd.to_datetime(row['OCC_MONTH'], format='%B').month, \n",
    "                                day=row['OCC_DAY'])\n",
    "            except ValueError:\n",
    "                # Return NaN if there's an error in date creation (e.g., invalid date)\n",
    "                return np.nan\n",
    "\n",
    "        # If Report_Date is valid and within a reasonable timeframe, return it\n",
    "        current_date = pd.to_datetime(row['OCC_DATE'])\n",
    "        if current_date.year >= 2014 and current_date.year <= 2024:\n",
    "            return current_date\n",
    "\n",
    "    except (ValueError, TypeError):\n",
    "        # If there's an error in trying to build the date, return NaN\n",
    "        return np.nan\n",
    "            \n",
    "\n",
    "# Apply the function to each row\n",
    "rawData2['OCC_DATE'] = rawData2.apply(Build_Occ_Date, axis=1)\n",
    "\n",
    "# Display rows where OCC_DATE was corrected\n",
    "print(rawData2[rawData2['OCC_DATE'].isna()])\n",
    "\n",
    "# Save the cleaned data back to CSV\n",
    "cleaned_dataset2 = \"C:/Users/knick/Desktop/BDAT/1011-MRP/MRP-1003/Data Cleaning/cleaned_Update_Occ_Date.csv\"\n",
    "rawData2.to_csv(cleaned_dataset2, index=False)\n",
    "\n",
    "\n",
    "\n"
   ]
  },
  {
   "cell_type": "code",
   "execution_count": 23,
   "id": "5c7a8a25-07e1-403d-8d4d-ba23db41ee8a",
   "metadata": {
    "execution": {
     "iopub.execute_input": "2024-05-23T01:39:45.859133Z",
     "iopub.status.busy": "2024-05-23T01:39:45.859133Z",
     "iopub.status.idle": "2024-05-23T01:39:45.868108Z",
     "shell.execute_reply": "2024-05-23T01:39:45.868108Z",
     "shell.execute_reply.started": "2024-05-23T01:39:45.859133Z"
    }
   },
   "outputs": [
    {
     "name": "stdout",
     "output_type": "stream",
     "text": [
      "OCC_YEAR     0\n",
      "OCC_MONTH    0\n",
      "OCC_DAY      0\n",
      "dtype: int64\n",
      "OCC_DATE    4\n",
      "dtype: int64\n"
     ]
    }
   ],
   "source": [
    "print(rawData2[['OCC_YEAR', 'OCC_MONTH', 'OCC_DAY']].isna().sum())\n",
    "print(rawData2[['OCC_DATE']].isna().sum())"
   ]
  },
  {
   "cell_type": "code",
   "execution_count": null,
   "id": "10a53450-447d-4849-b6e5-3b6c65e3f139",
   "metadata": {},
   "outputs": [],
   "source": []
  }
 ],
 "metadata": {
  "kernelspec": {
   "display_name": "Python 3 (ipykernel)",
   "language": "python",
   "name": "python3"
  },
  "language_info": {
   "codemirror_mode": {
    "name": "ipython",
    "version": 3
   },
   "file_extension": ".py",
   "mimetype": "text/x-python",
   "name": "python",
   "nbconvert_exporter": "python",
   "pygments_lexer": "ipython3",
   "version": "3.11.5"
  }
 },
 "nbformat": 4,
 "nbformat_minor": 5
}
